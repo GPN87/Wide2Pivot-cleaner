{
 "cells": [
  {
   "cell_type": "code",
   "execution_count": 47,
   "id": "ed6a8745",
   "metadata": {},
   "outputs": [],
   "source": [
    "#This imports the pandas, numpy libraries and datetime to timestamp the output file\n",
    "import pandas as pd\n",
    "import numpy as np\n",
    "from datetime import datetime"
   ]
  },
  {
   "cell_type": "code",
   "execution_count": 48,
   "id": "44208916",
   "metadata": {},
   "outputs": [],
   "source": [
    "np.random.seed(42)"
   ]
  },
  {
   "cell_type": "code",
   "execution_count": 49,
   "id": "63dffac6",
   "metadata": {},
   "outputs": [],
   "source": [
    "num_patients = 1000"
   ]
  },
  {
   "cell_type": "code",
   "execution_count": 50,
   "id": "cea654c8",
   "metadata": {},
   "outputs": [],
   "source": [
    "#PART I: SYNTHETIC DATA CREATION\n",
    "data = {'Patient_ID': [], 'Sex': [], 'Condition_1': [], 'Diagnosis_Date_1': [],\n",
    "        'Condition_2': [], 'Diagnosis_Date_2': [], 'Condition_3': [], 'Diagnosis_Date_3': []}"
   ]
  },
  {
   "cell_type": "code",
   "execution_count": 51,
   "id": "14be5f79",
   "metadata": {},
   "outputs": [],
   "source": [
    "medical_conditions = ['Diabetes', 'Hypertension', 'Asthma', 'Obesity', 'Arthritis', 'Depression', 'Migraine', 'Allergies', 'Osteoporosis', 'Anemia']"
   ]
  },
  {
   "cell_type": "code",
   "execution_count": 52,
   "id": "8b06dc20",
   "metadata": {},
   "outputs": [],
   "source": [
    "for patient_id in range(1, num_patients + 1):\n",
    "    # Add patient ID and gender\n",
    "    data['Patient_ID'].append(patient_id)\n",
    "    data['Sex'].append(np.random.choice(['Male', 'Female']))\n",
    "\n",
    "    # This generates a random number of medical conditions (at least one)\n",
    "    num_conditions = np.random.randint(1, 4)\n",
    "    condition_dates = [pd.Timestamp(np.random.randint(2000, 2023), np.random.randint(1, 13), np.random.randint(1, 29)) for _ in range(num_conditions)]\n",
    "\n",
    "    # This adds a medical condition and diagnosis date\n",
    "    for i in range(3):\n",
    "        if i < num_conditions:\n",
    "            data[f'Condition_{i+1}'].append(np.random.choice(medical_conditions))\n",
    "            data[f'Diagnosis_Date_{i+1}'].append(condition_dates[i])\n",
    "        else:\n",
    "            data[f'Condition_{i+1}'].append(np.nan)\n",
    "            data[f'Diagnosis_Date_{i+1}'].append(pd.NaT)"
   ]
  },
  {
   "cell_type": "code",
   "execution_count": 53,
   "id": "753924c4",
   "metadata": {},
   "outputs": [],
   "source": [
    "synthetic_health_data = pd.DataFrame(data)"
   ]
  },
  {
   "cell_type": "code",
   "execution_count": 54,
   "id": "cfa2269c",
   "metadata": {},
   "outputs": [
    {
     "data": {
      "text/html": [
       "<div>\n",
       "<style scoped>\n",
       "    .dataframe tbody tr th:only-of-type {\n",
       "        vertical-align: middle;\n",
       "    }\n",
       "\n",
       "    .dataframe tbody tr th {\n",
       "        vertical-align: top;\n",
       "    }\n",
       "\n",
       "    .dataframe thead th {\n",
       "        text-align: right;\n",
       "    }\n",
       "</style>\n",
       "<table border=\"1\" class=\"dataframe\">\n",
       "  <thead>\n",
       "    <tr style=\"text-align: right;\">\n",
       "      <th></th>\n",
       "      <th>Patient_ID</th>\n",
       "      <th>Sex</th>\n",
       "      <th>Condition_1</th>\n",
       "      <th>Diagnosis_Date_1</th>\n",
       "      <th>Condition_2</th>\n",
       "      <th>Diagnosis_Date_2</th>\n",
       "      <th>Condition_3</th>\n",
       "      <th>Diagnosis_Date_3</th>\n",
       "    </tr>\n",
       "  </thead>\n",
       "  <tbody>\n",
       "    <tr>\n",
       "      <th>0</th>\n",
       "      <td>1</td>\n",
       "      <td>Male</td>\n",
       "      <td>Arthritis</td>\n",
       "      <td>2014-11-08</td>\n",
       "      <td>NaN</td>\n",
       "      <td>NaT</td>\n",
       "      <td>NaN</td>\n",
       "      <td>NaT</td>\n",
       "    </tr>\n",
       "    <tr>\n",
       "      <th>1</th>\n",
       "      <td>2</td>\n",
       "      <td>Male</td>\n",
       "      <td>Obesity</td>\n",
       "      <td>2018-07-11</td>\n",
       "      <td>Allergies</td>\n",
       "      <td>2010-08-21</td>\n",
       "      <td>NaN</td>\n",
       "      <td>NaT</td>\n",
       "    </tr>\n",
       "    <tr>\n",
       "      <th>2</th>\n",
       "      <td>3</td>\n",
       "      <td>Female</td>\n",
       "      <td>Anemia</td>\n",
       "      <td>2021-05-02</td>\n",
       "      <td>Depression</td>\n",
       "      <td>2011-06-02</td>\n",
       "      <td>Osteoporosis</td>\n",
       "      <td>2020-01-12</td>\n",
       "    </tr>\n",
       "    <tr>\n",
       "      <th>3</th>\n",
       "      <td>4</td>\n",
       "      <td>Male</td>\n",
       "      <td>Asthma</td>\n",
       "      <td>2009-12-28</td>\n",
       "      <td>Arthritis</td>\n",
       "      <td>2015-03-12</td>\n",
       "      <td>Asthma</td>\n",
       "      <td>2022-04-25</td>\n",
       "    </tr>\n",
       "    <tr>\n",
       "      <th>4</th>\n",
       "      <td>5</td>\n",
       "      <td>Male</td>\n",
       "      <td>Obesity</td>\n",
       "      <td>2008-07-18</td>\n",
       "      <td>NaN</td>\n",
       "      <td>NaT</td>\n",
       "      <td>NaN</td>\n",
       "      <td>NaT</td>\n",
       "    </tr>\n",
       "    <tr>\n",
       "      <th>...</th>\n",
       "      <td>...</td>\n",
       "      <td>...</td>\n",
       "      <td>...</td>\n",
       "      <td>...</td>\n",
       "      <td>...</td>\n",
       "      <td>...</td>\n",
       "      <td>...</td>\n",
       "      <td>...</td>\n",
       "    </tr>\n",
       "    <tr>\n",
       "      <th>995</th>\n",
       "      <td>996</td>\n",
       "      <td>Female</td>\n",
       "      <td>Asthma</td>\n",
       "      <td>2013-08-03</td>\n",
       "      <td>NaN</td>\n",
       "      <td>NaT</td>\n",
       "      <td>NaN</td>\n",
       "      <td>NaT</td>\n",
       "    </tr>\n",
       "    <tr>\n",
       "      <th>996</th>\n",
       "      <td>997</td>\n",
       "      <td>Male</td>\n",
       "      <td>Diabetes</td>\n",
       "      <td>2002-12-28</td>\n",
       "      <td>NaN</td>\n",
       "      <td>NaT</td>\n",
       "      <td>NaN</td>\n",
       "      <td>NaT</td>\n",
       "    </tr>\n",
       "    <tr>\n",
       "      <th>997</th>\n",
       "      <td>998</td>\n",
       "      <td>Female</td>\n",
       "      <td>Obesity</td>\n",
       "      <td>2020-09-23</td>\n",
       "      <td>NaN</td>\n",
       "      <td>NaT</td>\n",
       "      <td>NaN</td>\n",
       "      <td>NaT</td>\n",
       "    </tr>\n",
       "    <tr>\n",
       "      <th>998</th>\n",
       "      <td>999</td>\n",
       "      <td>Female</td>\n",
       "      <td>Migraine</td>\n",
       "      <td>2001-10-10</td>\n",
       "      <td>Migraine</td>\n",
       "      <td>2010-12-06</td>\n",
       "      <td>Anemia</td>\n",
       "      <td>2003-08-12</td>\n",
       "    </tr>\n",
       "    <tr>\n",
       "      <th>999</th>\n",
       "      <td>1000</td>\n",
       "      <td>Male</td>\n",
       "      <td>Depression</td>\n",
       "      <td>2004-06-01</td>\n",
       "      <td>NaN</td>\n",
       "      <td>NaT</td>\n",
       "      <td>NaN</td>\n",
       "      <td>NaT</td>\n",
       "    </tr>\n",
       "  </tbody>\n",
       "</table>\n",
       "<p>1000 rows × 8 columns</p>\n",
       "</div>"
      ],
      "text/plain": [
       "     Patient_ID     Sex Condition_1 Diagnosis_Date_1 Condition_2  \\\n",
       "0             1    Male   Arthritis       2014-11-08         NaN   \n",
       "1             2    Male     Obesity       2018-07-11   Allergies   \n",
       "2             3  Female      Anemia       2021-05-02  Depression   \n",
       "3             4    Male      Asthma       2009-12-28   Arthritis   \n",
       "4             5    Male     Obesity       2008-07-18         NaN   \n",
       "..          ...     ...         ...              ...         ...   \n",
       "995         996  Female      Asthma       2013-08-03         NaN   \n",
       "996         997    Male    Diabetes       2002-12-28         NaN   \n",
       "997         998  Female     Obesity       2020-09-23         NaN   \n",
       "998         999  Female    Migraine       2001-10-10    Migraine   \n",
       "999        1000    Male  Depression       2004-06-01         NaN   \n",
       "\n",
       "    Diagnosis_Date_2   Condition_3 Diagnosis_Date_3  \n",
       "0                NaT           NaN              NaT  \n",
       "1         2010-08-21           NaN              NaT  \n",
       "2         2011-06-02  Osteoporosis       2020-01-12  \n",
       "3         2015-03-12        Asthma       2022-04-25  \n",
       "4                NaT           NaN              NaT  \n",
       "..               ...           ...              ...  \n",
       "995              NaT           NaN              NaT  \n",
       "996              NaT           NaN              NaT  \n",
       "997              NaT           NaN              NaT  \n",
       "998       2010-12-06        Anemia       2003-08-12  \n",
       "999              NaT           NaN              NaT  \n",
       "\n",
       "[1000 rows x 8 columns]"
      ]
     },
     "execution_count": 54,
     "metadata": {},
     "output_type": "execute_result"
    }
   ],
   "source": [
    "synthetic_health_data"
   ]
  },
  {
   "cell_type": "code",
   "execution_count": 55,
   "id": "48f21d07",
   "metadata": {},
   "outputs": [],
   "source": [
    "#Part II: CLEAN AND PIVOT.\n",
    "synthetic_health_data=synthetic_health_data.rename(columns={'Sex':'Sex_1'})\n",
    "\n",
    "#This melts the wide format to long format on the column name, separates them on '_' and stores them as numbers.\n",
    "melted_df = pd.wide_to_long(synthetic_health_data,\n",
    "                            stubnames=['Sex', 'Condition', 'Diagnosis_Date'],\n",
    "                            i='Patient_ID',\n",
    "                            j='Num',\n",
    "                            sep='_')"
   ]
  },
  {
   "cell_type": "code",
   "execution_count": 56,
   "id": "047ceade",
   "metadata": {},
   "outputs": [],
   "source": [
    "melted_df = melted_df.reset_index()"
   ]
  },
  {
   "cell_type": "code",
   "execution_count": 57,
   "id": "b45145e3",
   "metadata": {},
   "outputs": [],
   "source": [
    "#This prevents a condition from being double counted if a patient had it more than once.\n",
    "melted_df = melted_df.drop_duplicates(subset=['Patient_ID', 'Condition'])"
   ]
  },
  {
   "cell_type": "code",
   "execution_count": 58,
   "id": "f9e06c8c",
   "metadata": {},
   "outputs": [],
   "source": [
    "#This creates the pivot table, with 'Condition' as row, 'Sex' as column.\n",
    "pivot_table = pd.pivot_table(melted_df,\n",
    "                             index=['Condition'],\n",
    "                             columns=['Sex'],\n",
    "                             aggfunc='size',  # You can use 'count' if you prefer\n",
    "                             fill_value=0)"
   ]
  },
  {
   "cell_type": "code",
   "execution_count": 59,
   "id": "2efbc875",
   "metadata": {},
   "outputs": [],
   "source": [
    "#This adds a total column\n",
    "pivot_table['Total'] = pivot_table.sum(axis=1)"
   ]
  },
  {
   "cell_type": "code",
   "execution_count": 60,
   "id": "e8578adf",
   "metadata": {},
   "outputs": [],
   "source": [
    "#This rearranges from A-Z to total size descending.\n",
    "pivot_table = pivot_table.sort_values(by='Total', ascending=False)"
   ]
  },
  {
   "cell_type": "code",
   "execution_count": 61,
   "id": "4422916d",
   "metadata": {},
   "outputs": [
    {
     "name": "stdout",
     "output_type": "stream",
     "text": [
      "Sex           Female  Male  Total\n",
      "Condition                        \n",
      "Diabetes          47    58    105\n",
      "Anemia            52    51    103\n",
      "Allergies         47    55    102\n",
      "Migraine          52    50    102\n",
      "Osteoporosis      45    57    102\n",
      "Asthma            53    48    101\n",
      "Depression        50    49     99\n",
      "Hypertension      50    48     98\n",
      "Obesity           45    52     97\n",
      "Arthritis         48    43     91\n"
     ]
    }
   ],
   "source": [
    "#Here is the end product\n",
    "print(pivot_table)"
   ]
  },
  {
   "cell_type": "code",
   "execution_count": null,
   "id": "2bbc2ee6",
   "metadata": {},
   "outputs": [],
   "source": []
  }
 ],
 "metadata": {
  "kernelspec": {
   "display_name": "Python 3 (ipykernel)",
   "language": "python",
   "name": "python3"
  },
  "language_info": {
   "codemirror_mode": {
    "name": "ipython",
    "version": 3
   },
   "file_extension": ".py",
   "mimetype": "text/x-python",
   "name": "python",
   "nbconvert_exporter": "python",
   "pygments_lexer": "ipython3",
   "version": "3.7.7"
  },
  "vscode": {
   "interpreter": {
    "hash": "f850961cf86af6bfbfea148a42afa87a6dcae71f5d27e6de0e5d99efe6284e3a"
   }
  }
 },
 "nbformat": 4,
 "nbformat_minor": 5
}
